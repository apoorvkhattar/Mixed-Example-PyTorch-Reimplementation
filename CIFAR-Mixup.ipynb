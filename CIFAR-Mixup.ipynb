{
 "cells": [
  {
   "cell_type": "code",
   "execution_count": 1,
   "metadata": {},
   "outputs": [],
   "source": [
    "import os\n",
    "import copy\n",
    "import math\n",
    "import tqdm\n",
    "import torch\n",
    "import pickle\n",
    "import random\n",
    "import datetime\n",
    "\n",
    "import numpy as np\n",
    "import torch.nn as nn\n",
    "import matplotlib.pyplot as plt\n",
    "import torch.distributions.beta as beta\n",
    "import torchvision.transforms.functional as TF\n",
    "\n",
    "from PIL import Image\n",
    "from torchvision import transforms\n",
    "from torchvision.utils import save_image\n",
    "from tensorboardX import SummaryWriter\n",
    "from torch.nn.functional import relu, avg_pool2d"
   ]
  },
  {
   "cell_type": "code",
   "execution_count": 2,
   "metadata": {},
   "outputs": [],
   "source": [
    "seed = 0"
   ]
  },
  {
   "cell_type": "code",
   "execution_count": 3,
   "metadata": {},
   "outputs": [],
   "source": [
    "torch.manual_seed(seed)\n",
    "np.random.seed(seed)\n",
    "random.seed(seed)"
   ]
  },
  {
   "cell_type": "code",
   "execution_count": 4,
   "metadata": {},
   "outputs": [
    {
     "name": "stdout",
     "output_type": "stream",
     "text": [
      "cuda\n"
     ]
    }
   ],
   "source": [
    "device = torch.device('cuda' if torch.cuda.is_available() else 'cpu')\n",
    "print(device)"
   ]
  },
  {
   "cell_type": "code",
   "execution_count": 5,
   "metadata": {},
   "outputs": [],
   "source": [
    "'''Data Preparation Arguments'''\n",
    "data_prep_from_scratch = True\n",
    "dataset = 'cifar10'\n",
    "path_dataset = './Data/CIFAR10/'\n",
    "\n",
    "'''Data Augmentation Method'''\n",
    "method = 'vhmixup'\n",
    "\n",
    "'''Optimization Arguments'''\n",
    "batch_size = 128\n",
    "train_epochs = 225\n",
    "\n",
    "lr = 0.01\n",
    "momentum = 0.9\n",
    "weight_decay = 5e-4\n",
    "# Increase LR from 0.01 to 1.\n",
    "lr_scheduler_1_gamma = 10.0; milestones_1 = [400]\n",
    "# Lower LR from 1. to 0.01\n",
    "lr_scheduler_2_gamma = 0.1; milestones_2 = [32000, 48000, 70000]"
   ]
  },
  {
   "cell_type": "markdown",
   "metadata": {},
   "source": [
    "# Preprocess CIFAR"
   ]
  },
  {
   "cell_type": "code",
   "execution_count": 6,
   "metadata": {},
   "outputs": [],
   "source": [
    "def unpickle(file):\n",
    "    with open(file, 'rb') as fo:\n",
    "        dict = pickle.load(fo, encoding='bytes')\n",
    "    return dict"
   ]
  },
  {
   "cell_type": "code",
   "execution_count": 7,
   "metadata": {},
   "outputs": [],
   "source": [
    "if data_prep_from_scratch and dataset == 'cifar100':\n",
    "    cifar100_train = unpickle(os.path.join(path_dataset, 'train'))\n",
    "    cifar100_test = unpickle(os.path.join(path_dataset, 'test'))\n",
    "\n",
    "    x_tr = torch.from_numpy(cifar100_train[b'data'].reshape((-1,32,32,3), order='F')).permute(0,2,1,3)\n",
    "    y_tr = torch.LongTensor(cifar100_train[b'fine_labels'])\n",
    "    x_te = torch.from_numpy(cifar100_test[b'data'].reshape((-1,32,32,3), order='F')).permute(0,2,1,3)\n",
    "    y_te = torch.LongTensor(cifar100_test[b'fine_labels'])\n",
    "\n",
    "    torch.save((x_tr, y_tr, x_te, y_te), os.path.join(path_dataset, '{}.pt'.format(dataset)))"
   ]
  },
  {
   "cell_type": "code",
   "execution_count": 8,
   "metadata": {},
   "outputs": [],
   "source": [
    "if data_prep_from_scratch and dataset == 'cifar10':\n",
    "    x_tr, y_tr = None, None\n",
    "    for b in range(5):\n",
    "        cifar10_train = unpickle(os.path.join(path_dataset, 'data_batch_{}'.format(b+1)))\n",
    "        \n",
    "        batch_img = torch.from_numpy(cifar10_train[b'data'].reshape((-1,32,32,3), order='F')).permute(0,2,1,3)\n",
    "        batch_label = torch.LongTensor(cifar10_train[b'labels'])\n",
    "        \n",
    "        if x_tr is None:\n",
    "            x_tr = batch_img\n",
    "            y_tr = batch_label\n",
    "        else:\n",
    "            x_tr = torch.cat((x_tr, batch_img), dim=0)\n",
    "            y_tr = torch.cat((y_tr, batch_label), dim=0)\n",
    "    \n",
    "    cifar10_test = unpickle(os.path.join(path_dataset, 'test_batch'))\n",
    "    x_te = torch.from_numpy(cifar10_test[b'data'].reshape((-1,32,32,3), order='F')).permute(0,2,1,3)\n",
    "    y_te = torch.LongTensor(cifar10_test[b'labels'])\n",
    "    \n",
    "    torch.save((x_tr, y_tr, x_te, y_te), os.path.join(path_dataset, '{}.pt'.format(dataset)))"
   ]
  },
  {
   "cell_type": "markdown",
   "metadata": {},
   "source": [
    "# Load Data"
   ]
  },
  {
   "cell_type": "code",
   "execution_count": 9,
   "metadata": {},
   "outputs": [],
   "source": [
    "def load_datasets(path):\n",
    "    d = torch.load(path)\n",
    "    d_tr = (d[0], d[1])\n",
    "    d_te = (d[2], d[3])\n",
    "    if dataset == 'cifar100':\n",
    "        n_outputs = 100\n",
    "    else:\n",
    "        n_outputs = 10        \n",
    "    return d_tr, d_te, n_outputs"
   ]
  },
  {
   "cell_type": "code",
   "execution_count": 10,
   "metadata": {},
   "outputs": [],
   "source": [
    "d_tr, d_te, n_outputs = load_datasets(os.path.join(path_dataset, '{}.pt'.format(dataset)))"
   ]
  },
  {
   "cell_type": "markdown",
   "metadata": {},
   "source": [
    "# Dataloader"
   ]
  },
  {
   "cell_type": "code",
   "execution_count": 11,
   "metadata": {},
   "outputs": [],
   "source": [
    "class CIFAR(torch.utils.data.Dataset):\n",
    "    def __init__(self, pack, method, train=False):\n",
    "        self.x = pack[0]\n",
    "        self.y = pack[1]\n",
    "        self.img_size = (3,32,32)\n",
    "        \n",
    "        self.method = method\n",
    "        self.train = train\n",
    "    \n",
    "    def __len__(self):\n",
    "        return len(self.x)\n",
    "    \n",
    "    def transform(self, img):\n",
    "        top = torch.randint(0,8,(1,))\n",
    "        left = torch.randint(0,8,(1,))\n",
    "        img = TF.crop(img, top=top, left=left, height=self.img_size[1], width=self.img_size[2])\n",
    "        \n",
    "        if torch.rand(1) > 0.5:\n",
    "            img = TF.vflip(img)\n",
    "            \n",
    "        return img\n",
    "    \n",
    "    def __getitem__(self, item):\n",
    "        x = self.x[item].float()\n",
    "        \n",
    "        if 'bcplus' not in self.method:\n",
    "            mean_image = torch.from_numpy(np.array([0.4914, 0.4822, 0.4465])).float()\n",
    "            std_image = torch.from_numpy(np.array([0.2023, 0.1994, 0.2010])).float()\n",
    "        else:\n",
    "            x = x - torch.mean(x)\n",
    "            mean_image = torch.from_numpy(np.array([0.21921569, 0.21058824, 0.22156863])).float()\n",
    "            std_image = torch.from_numpy(np.array([0.2023, 0.1994, 0.2010])).float()\n",
    "            \n",
    "        x = x / 255.0 - mean_image\n",
    "        x = x / std_image\n",
    "        \n",
    "        x = x.permute(2,0,1)\n",
    "        \n",
    "        if self.train:\n",
    "            x = TF.pad(x, padding=4)\n",
    "            x = self.transform(x)\n",
    "            \n",
    "        return x, self.y[item]"
   ]
  },
  {
   "cell_type": "code",
   "execution_count": 12,
   "metadata": {},
   "outputs": [],
   "source": [
    "train_datasets = CIFAR(d_tr, method, train=True)\n",
    "train_dataloaders = torch.utils.data.DataLoader(train_datasets, batch_size=batch_size, shuffle=True, drop_last=True)"
   ]
  },
  {
   "cell_type": "code",
   "execution_count": 13,
   "metadata": {},
   "outputs": [],
   "source": [
    "train_iterator = iter(train_dataloaders)"
   ]
  },
  {
   "cell_type": "code",
   "execution_count": 14,
   "metadata": {},
   "outputs": [],
   "source": [
    "test_datasets = CIFAR(d_te, method)\n",
    "test_dataloaders = torch.utils.data.DataLoader(test_datasets, batch_size=batch_size, shuffle=False)"
   ]
  },
  {
   "cell_type": "code",
   "execution_count": 15,
   "metadata": {},
   "outputs": [
    {
     "name": "stdout",
     "output_type": "stream",
     "text": [
      "50000 10000\n"
     ]
    }
   ],
   "source": [
    "print(len(train_datasets), len(test_datasets))"
   ]
  },
  {
   "cell_type": "code",
   "execution_count": 16,
   "metadata": {},
   "outputs": [
    {
     "name": "stdout",
     "output_type": "stream",
     "text": [
      "390 79\n"
     ]
    }
   ],
   "source": [
    "print(len(train_dataloaders), len(test_dataloaders))"
   ]
  },
  {
   "cell_type": "markdown",
   "metadata": {},
   "source": [
    "# Augmentations"
   ]
  },
  {
   "cell_type": "code",
   "execution_count": 17,
   "metadata": {},
   "outputs": [],
   "source": [
    "def verticalConcat(pair_1, pair_2):\n",
    "    lambda_vertical_beta = beta.Beta(torch.tensor([1.]), torch.tensor([1.]))\n",
    "    lambda_vertical = lambda_vertical_beta.sample()\n",
    "    \n",
    "    img_1, label_1 = pair_1[0], pair_1[1]\n",
    "    img_2, label_2 = pair_2[0], pair_2[1]\n",
    "    \n",
    "    h, w = img_1.shape[1], img_1.shape[2]\n",
    "    \n",
    "    if len(label_1.shape) == 0:\n",
    "        label_1 = torch.zeros(n_outputs)\n",
    "        label_1[pair_1[1]] = 1\n",
    "        \n",
    "    if len(label_2.shape) == 0:\n",
    "        label_2 = torch.zeros(n_outputs)\n",
    "        label_2[pair_2[1]] = 1\n",
    "    \n",
    "    vertical_concat = torch.zeros(img_1.shape)\n",
    "    vertical_label = torch.zeros(n_outputs)\n",
    "\n",
    "    vertical_concat[:,:int(lambda_vertical*h),:] = img_1[:,:int(lambda_vertical*h),:]\n",
    "    vertical_concat[:,int(lambda_vertical*h):,:] = img_2[:,int(lambda_vertical*h):,:]\n",
    "    \n",
    "    vertical_label = int(lambda_vertical*h) / h * label_1 + (h - int(lambda_vertical*h)) / h * label_2\n",
    "    \n",
    "    return vertical_concat, vertical_label"
   ]
  },
  {
   "cell_type": "code",
   "execution_count": 18,
   "metadata": {},
   "outputs": [],
   "source": [
    "def horizontalConcat(pair_1, pair_2):\n",
    "    lambda_horizontal_beta = beta.Beta(torch.tensor([1.]), torch.tensor([1.]))\n",
    "    lambda_horizontal = lambda_horizontal_beta.sample()\n",
    "    \n",
    "    img_1, label_1 = pair_1[0], pair_1[1]\n",
    "    img_2, label_2 = pair_2[0], pair_2[1]\n",
    "    \n",
    "    h, w = img_1.shape[1], img_1.shape[2]\n",
    "    \n",
    "    if len(label_1.shape) == 0:\n",
    "        label_1 = torch.zeros(n_outputs)\n",
    "        label_1[pair_1[1]] = 1\n",
    "        \n",
    "    if len(label_2.shape) == 0:\n",
    "        label_2 = torch.zeros(n_outputs)\n",
    "        label_2[pair_2[1]] = 1\n",
    "    \n",
    "    horizontal_concat = torch.zeros(img_1.shape)\n",
    "    horizontal_label = torch.zeros(n_outputs)\n",
    "    \n",
    "    horizontal_concat[:,:,:int(lambda_horizontal*w)] = img_1[:,:,:int(lambda_horizontal*w)]\n",
    "    horizontal_concat[:,:,int(lambda_horizontal*w):] = img_2[:,:,int(lambda_horizontal*w):]\n",
    "    \n",
    "    horizontal_label = int(lambda_horizontal*w) / w * label_1 + (w - int(lambda_horizontal*w)) / w * label_2\n",
    "    \n",
    "    return horizontal_concat, horizontal_label"
   ]
  },
  {
   "cell_type": "code",
   "execution_count": 19,
   "metadata": {},
   "outputs": [],
   "source": [
    "def VHMixup(pair_1, pair_2):\n",
    "    lambda_mixup_beta = beta.Beta(torch.tensor([1.]), torch.tensor([1.]))\n",
    "    lambda_mixup = lambda_mixup_beta.sample()\n",
    "    \n",
    "    vertical_concat, vertical_label = verticalConcat(pair_1, pair_2)\n",
    "    horizontal_concat, horizontal_label = horizontalConcat(pair_1, pair_2)\n",
    "    \n",
    "    mixed_img = lambda_mixup * vertical_concat + (1 - lambda_mixup) * horizontal_concat\n",
    "    mixed_label = lambda_mixup * vertical_label + (1 - lambda_mixup) * horizontal_label\n",
    "    \n",
    "    return mixed_img, mixed_label"
   ]
  },
  {
   "cell_type": "code",
   "execution_count": 20,
   "metadata": {},
   "outputs": [],
   "source": [
    "def VHBCplus(pair_1, pair_2):\n",
    "    vertical_concat, vertical_label = verticalConcat(pair_1, pair_2)\n",
    "    horizontal_concat, horizontal_label = horizontalConcat(pair_1, pair_2)\n",
    "    \n",
    "    lambda_uni = torch.rand(1)\n",
    "    lambda_factor = (1 - lambda_uni) / lambda_uni\n",
    "    \n",
    "    vertical_std = torch.std(vertical_concat)\n",
    "    horizontal_std = torch.std(horizontal_concat)\n",
    "    std_factor = vertical_std / horizontal_std\n",
    "\n",
    "    p = 1 / (1 + std_factor * lambda_factor)\n",
    "    \n",
    "    denom = torch.sqrt(p**2 + (1-p)**2)\n",
    "    \n",
    "    bcplus_img = (p * vertical_concat + (1 - p) * horizontal_concat) / denom\n",
    "    bcplus_label = lambda_uni * vertical_label + (1 - lambda_uni) * horizontal_label\n",
    "    \n",
    "    return bcplus_img, bcplus_label"
   ]
  },
  {
   "cell_type": "markdown",
   "metadata": {
    "tags": []
   },
   "source": [
    "# Model"
   ]
  },
  {
   "cell_type": "code",
   "execution_count": 21,
   "metadata": {},
   "outputs": [],
   "source": [
    "def conv3x3(in_planes, out_planes, stride=1):\n",
    "    return nn.Conv2d(in_planes, out_planes, kernel_size=3, stride=stride,\n",
    "                     padding=1, bias=False)\n",
    "\n",
    "class BasicBlock(nn.Module):\n",
    "    expansion = 1\n",
    "\n",
    "    def __init__(self, in_planes, planes, stride=1):\n",
    "        super(BasicBlock, self).__init__()\n",
    "        self.conv1 = conv3x3(in_planes, planes, stride)\n",
    "        self.bn1 = nn.BatchNorm2d(planes)\n",
    "        self.conv2 = conv3x3(planes, planes)\n",
    "        self.bn2 = nn.BatchNorm2d(planes)\n",
    "\n",
    "        self.shortcut = nn.Sequential()\n",
    "        if stride != 1 or in_planes != self.expansion * planes:\n",
    "            self.shortcut = nn.Sequential(\n",
    "                nn.Conv2d(in_planes, self.expansion * planes, kernel_size=1,\n",
    "                          stride=stride, bias=False),\n",
    "                nn.BatchNorm2d(self.expansion * planes)\n",
    "            )\n",
    "\n",
    "    def forward(self, x):\n",
    "        out = relu(self.bn1(self.conv1(x)))\n",
    "        out = self.bn2(self.conv2(out))\n",
    "        out += self.shortcut(x)\n",
    "        out = relu(out)\n",
    "        return out\n",
    "\n",
    "class ResNet(nn.Module):\n",
    "    def __init__(self, block, num_blocks, num_classes, nf):\n",
    "        super(ResNet, self).__init__()\n",
    "        self.in_planes = nf\n",
    "\n",
    "        self.conv1 = conv3x3(3, nf * 1)\n",
    "        self.bn1 = nn.BatchNorm2d(nf * 1)\n",
    "        self.layer1 = self._make_layer(block, nf * 1, num_blocks[0], stride=1)\n",
    "        self.layer2 = self._make_layer(block, nf * 2, num_blocks[1], stride=2)\n",
    "        self.layer3 = self._make_layer(block, nf * 4, num_blocks[2], stride=2)\n",
    "        self.layer4 = self._make_layer(block, nf * 8, num_blocks[3], stride=2)\n",
    "        self.linear = nn.Linear(nf * 8 * block.expansion, num_classes)\n",
    "\n",
    "    def _make_layer(self, block, planes, num_blocks, stride):\n",
    "        strides = [stride] + [1] * (num_blocks - 1)\n",
    "        layers = []\n",
    "        for stride in strides:\n",
    "            layers.append(block(self.in_planes, planes, stride))\n",
    "            self.in_planes = planes * block.expansion\n",
    "        return nn.Sequential(*layers)\n",
    "\n",
    "    def forward(self, x):\n",
    "        bsz = x.size(0)\n",
    "        out = relu(self.bn1(self.conv1(x)))\n",
    "        out = self.layer1(out)\n",
    "        out = self.layer2(out)\n",
    "        out = self.layer3(out)\n",
    "        out = self.layer4(out)\n",
    "        out = avg_pool2d(out, 4)\n",
    "        out = out.view(out.size(0), -1)\n",
    "        out = self.linear(out)\n",
    "        return out"
   ]
  },
  {
   "cell_type": "code",
   "execution_count": 22,
   "metadata": {},
   "outputs": [],
   "source": [
    "def ResNet18(nclasses, nf=20):\n",
    "    return ResNet(BasicBlock, [2, 2, 2, 2], nclasses, nf)"
   ]
  },
  {
   "cell_type": "markdown",
   "metadata": {},
   "source": [
    "# Train"
   ]
  },
  {
   "cell_type": "markdown",
   "metadata": {},
   "source": [
    "### Log Files"
   ]
  },
  {
   "cell_type": "code",
   "execution_count": 26,
   "metadata": {},
   "outputs": [],
   "source": [
    "ROOT_DIR = './Results/'\n",
    "now =  '{}_ResNet_{}_{}'.format(dataset, method, seed)\n",
    "\n",
    "if not os.path.exists(ROOT_DIR):\n",
    "    os.makedirs(ROOT_DIR)\n",
    "\n",
    "if not os.path.exists(ROOT_DIR + now):\n",
    "    os.makedirs(ROOT_DIR + now)\n",
    "\n",
    "LOG_DIR = ROOT_DIR + now + '/logs/'\n",
    "if not os.path.exists(LOG_DIR):\n",
    "    os.makedirs(LOG_DIR)\n",
    "else:\n",
    "    import shutil\n",
    "    shutil.rmtree(LOG_DIR)\n",
    "    os.makedirs(LOG_DIR)\n",
    "    \n",
    "MODEL_DIR = ROOT_DIR + now + '/models/'\n",
    "if not os.path.exists(MODEL_DIR):\n",
    "    os.makedirs(MODEL_DIR)\n",
    "\n",
    "summary_writer = SummaryWriter(LOG_DIR)"
   ]
  },
  {
   "cell_type": "code",
   "execution_count": 27,
   "metadata": {},
   "outputs": [],
   "source": [
    "def augmentBatch(pair_1, pair_2, augmentor):\n",
    "    img_1, label_1 = pair_1[0], pair_1[1]\n",
    "    img_2, label_2 = pair_2[0], pair_2[1]\n",
    "    \n",
    "    augment_batch = torch.zeros(img_1.shape)\n",
    "    augment_labels = torch.zeros(label_1.shape[0],n_outputs)\n",
    "    \n",
    "    for b in range(img_1.shape[0]):\n",
    "        p1 = img_1[b], label_1[b]\n",
    "        p2 = img_2[b], label_2[b]\n",
    "        \n",
    "        augment_batch[b], augment_labels[b] = augmentor(p1, p2)\n",
    "        \n",
    "    return augment_batch, augment_labels"
   ]
  },
  {
   "cell_type": "code",
   "execution_count": 28,
   "metadata": {},
   "outputs": [],
   "source": [
    "model = ResNet18(n_outputs).to(device)"
   ]
  },
  {
   "cell_type": "code",
   "execution_count": 29,
   "metadata": {},
   "outputs": [],
   "source": [
    "if method == 'vhmixup':\n",
    "    augmentor = VHMixup\n",
    "else:\n",
    "    augmentor = VHBCplus"
   ]
  },
  {
   "cell_type": "markdown",
   "metadata": {
    "tags": []
   },
   "source": [
    "### Optimizer and Schedulers"
   ]
  },
  {
   "cell_type": "code",
   "execution_count": 30,
   "metadata": {},
   "outputs": [],
   "source": [
    "opt = torch.optim.SGD(model.parameters(), lr=lr, momentum=momentum, weight_decay=weight_decay)\n",
    "scheduler_1 = torch.optim.lr_scheduler.MultiStepLR(opt, gamma=lr_scheduler_1_gamma, milestones=milestones_1)\n",
    "scheduler_2 = torch.optim.lr_scheduler.MultiStepLR(opt, gamma=lr_scheduler_2_gamma, milestones=milestones_2)"
   ]
  },
  {
   "cell_type": "code",
   "execution_count": 31,
   "metadata": {},
   "outputs": [],
   "source": [
    "criterion = nn.CrossEntropyLoss().to(device)"
   ]
  },
  {
   "cell_type": "code",
   "execution_count": 32,
   "metadata": {},
   "outputs": [],
   "source": [
    "def softXEnt(output, target):\n",
    "    logprobs = torch.nn.functional.log_softmax(output, dim = 1)\n",
    "    return  -(target * logprobs).sum() / output.shape[0]"
   ]
  },
  {
   "cell_type": "markdown",
   "metadata": {
    "tags": []
   },
   "source": [
    "### Training"
   ]
  },
  {
   "cell_type": "code",
   "execution_count": null,
   "metadata": {
    "scrolled": true,
    "tags": []
   },
   "outputs": [
    {
     "name": "stderr",
     "output_type": "stream",
     "text": [
      "100%|████████████████████████████████████████████████████████████████████████████████| 390/390 [01:24<00:00,  4.63it/s]\n",
      "  0%|                                                                                          | 0/390 [00:00<?, ?it/s]"
     ]
    },
    {
     "name": "stdout",
     "output_type": "stream",
     "text": [
      "After the accuracy after 0 epochs is 0.3967\n",
      "\n"
     ]
    },
    {
     "name": "stderr",
     "output_type": "stream",
     "text": [
      "100%|████████████████████████████████████████████████████████████████████████████████| 390/390 [01:24<00:00,  4.62it/s]\n",
      "  0%|                                                                                          | 0/390 [00:00<?, ?it/s]"
     ]
    },
    {
     "name": "stdout",
     "output_type": "stream",
     "text": [
      "After the accuracy after 1 epochs is 0.4963\n",
      "\n"
     ]
    },
    {
     "name": "stderr",
     "output_type": "stream",
     "text": [
      "100%|████████████████████████████████████████████████████████████████████████████████| 390/390 [01:30<00:00,  4.33it/s]\n",
      "  0%|                                                                                          | 0/390 [00:00<?, ?it/s]"
     ]
    },
    {
     "name": "stdout",
     "output_type": "stream",
     "text": [
      "After the accuracy after 2 epochs is 0.5347\n",
      "\n"
     ]
    },
    {
     "name": "stderr",
     "output_type": "stream",
     "text": [
      "100%|████████████████████████████████████████████████████████████████████████████████| 390/390 [01:33<00:00,  4.17it/s]\n",
      "  0%|                                                                                          | 0/390 [00:00<?, ?it/s]"
     ]
    },
    {
     "name": "stdout",
     "output_type": "stream",
     "text": [
      "After the accuracy after 3 epochs is 0.5925\n",
      "\n"
     ]
    },
    {
     "name": "stderr",
     "output_type": "stream",
     "text": [
      "100%|████████████████████████████████████████████████████████████████████████████████| 390/390 [01:39<00:00,  3.91it/s]\n",
      "  0%|                                                                                          | 0/390 [00:00<?, ?it/s]"
     ]
    },
    {
     "name": "stdout",
     "output_type": "stream",
     "text": [
      "After the accuracy after 4 epochs is 0.6145\n",
      "\n"
     ]
    },
    {
     "name": "stderr",
     "output_type": "stream",
     "text": [
      "100%|████████████████████████████████████████████████████████████████████████████████| 390/390 [01:45<00:00,  3.70it/s]\n",
      "  0%|                                                                                          | 0/390 [00:00<?, ?it/s]"
     ]
    },
    {
     "name": "stdout",
     "output_type": "stream",
     "text": [
      "After the accuracy after 5 epochs is 0.5724\n",
      "\n"
     ]
    },
    {
     "name": "stderr",
     "output_type": "stream",
     "text": [
      "100%|████████████████████████████████████████████████████████████████████████████████| 390/390 [01:47<00:00,  3.64it/s]\n",
      "  0%|                                                                                          | 0/390 [00:00<?, ?it/s]"
     ]
    },
    {
     "name": "stdout",
     "output_type": "stream",
     "text": [
      "After the accuracy after 6 epochs is 0.6345\n",
      "\n"
     ]
    },
    {
     "name": "stderr",
     "output_type": "stream",
     "text": [
      "100%|████████████████████████████████████████████████████████████████████████████████| 390/390 [01:38<00:00,  3.95it/s]\n",
      "  0%|                                                                                          | 0/390 [00:00<?, ?it/s]"
     ]
    },
    {
     "name": "stdout",
     "output_type": "stream",
     "text": [
      "After the accuracy after 7 epochs is 0.6836\n",
      "\n"
     ]
    },
    {
     "name": "stderr",
     "output_type": "stream",
     "text": [
      "100%|████████████████████████████████████████████████████████████████████████████████| 390/390 [01:45<00:00,  3.68it/s]\n",
      "  0%|                                                                                          | 0/390 [00:00<?, ?it/s]"
     ]
    },
    {
     "name": "stdout",
     "output_type": "stream",
     "text": [
      "After the accuracy after 8 epochs is 0.6194\n",
      "\n"
     ]
    },
    {
     "name": "stderr",
     "output_type": "stream",
     "text": [
      "100%|████████████████████████████████████████████████████████████████████████████████| 390/390 [01:44<00:00,  3.74it/s]\n",
      "  0%|                                                                                          | 0/390 [00:00<?, ?it/s]"
     ]
    },
    {
     "name": "stdout",
     "output_type": "stream",
     "text": [
      "After the accuracy after 9 epochs is 0.6365\n",
      "\n"
     ]
    },
    {
     "name": "stderr",
     "output_type": "stream",
     "text": [
      "100%|████████████████████████████████████████████████████████████████████████████████| 390/390 [01:44<00:00,  3.74it/s]\n",
      "  0%|                                                                                          | 0/390 [00:00<?, ?it/s]"
     ]
    },
    {
     "name": "stdout",
     "output_type": "stream",
     "text": [
      "After the accuracy after 10 epochs is 0.6566\n",
      "\n"
     ]
    },
    {
     "name": "stderr",
     "output_type": "stream",
     "text": [
      "100%|████████████████████████████████████████████████████████████████████████████████| 390/390 [01:48<00:00,  3.58it/s]\n",
      "  0%|                                                                                          | 0/390 [00:00<?, ?it/s]"
     ]
    },
    {
     "name": "stdout",
     "output_type": "stream",
     "text": [
      "After the accuracy after 11 epochs is 0.7052\n",
      "\n"
     ]
    },
    {
     "name": "stderr",
     "output_type": "stream",
     "text": [
      "100%|████████████████████████████████████████████████████████████████████████████████| 390/390 [01:40<00:00,  3.89it/s]\n",
      "  0%|                                                                                          | 0/390 [00:00<?, ?it/s]"
     ]
    },
    {
     "name": "stdout",
     "output_type": "stream",
     "text": [
      "After the accuracy after 12 epochs is 0.6431\n",
      "\n"
     ]
    },
    {
     "name": "stderr",
     "output_type": "stream",
     "text": [
      "100%|████████████████████████████████████████████████████████████████████████████████| 390/390 [01:39<00:00,  3.91it/s]\n",
      "  0%|                                                                                          | 0/390 [00:00<?, ?it/s]"
     ]
    },
    {
     "name": "stdout",
     "output_type": "stream",
     "text": [
      "After the accuracy after 13 epochs is 0.6249\n",
      "\n"
     ]
    },
    {
     "name": "stderr",
     "output_type": "stream",
     "text": [
      "100%|████████████████████████████████████████████████████████████████████████████████| 390/390 [01:36<00:00,  4.05it/s]\n",
      "  0%|                                                                                          | 0/390 [00:00<?, ?it/s]"
     ]
    },
    {
     "name": "stdout",
     "output_type": "stream",
     "text": [
      "After the accuracy after 14 epochs is 0.5986\n",
      "\n"
     ]
    },
    {
     "name": "stderr",
     "output_type": "stream",
     "text": [
      "100%|████████████████████████████████████████████████████████████████████████████████| 390/390 [01:35<00:00,  4.08it/s]\n",
      "  0%|                                                                                          | 0/390 [00:00<?, ?it/s]"
     ]
    },
    {
     "name": "stdout",
     "output_type": "stream",
     "text": [
      "After the accuracy after 15 epochs is 0.7063\n",
      "\n"
     ]
    },
    {
     "name": "stderr",
     "output_type": "stream",
     "text": [
      "100%|████████████████████████████████████████████████████████████████████████████████| 390/390 [01:35<00:00,  4.07it/s]\n",
      "  0%|                                                                                          | 0/390 [00:00<?, ?it/s]"
     ]
    },
    {
     "name": "stdout",
     "output_type": "stream",
     "text": [
      "After the accuracy after 16 epochs is 0.5696\n",
      "\n"
     ]
    },
    {
     "name": "stderr",
     "output_type": "stream",
     "text": [
      "100%|████████████████████████████████████████████████████████████████████████████████| 390/390 [01:40<00:00,  3.87it/s]\n",
      "  0%|                                                                                          | 0/390 [00:00<?, ?it/s]"
     ]
    },
    {
     "name": "stdout",
     "output_type": "stream",
     "text": [
      "After the accuracy after 17 epochs is 0.6623\n",
      "\n"
     ]
    },
    {
     "name": "stderr",
     "output_type": "stream",
     "text": [
      "100%|████████████████████████████████████████████████████████████████████████████████| 390/390 [01:35<00:00,  4.08it/s]\n",
      "  0%|                                                                                          | 0/390 [00:00<?, ?it/s]"
     ]
    },
    {
     "name": "stdout",
     "output_type": "stream",
     "text": [
      "After the accuracy after 18 epochs is 0.7208\n",
      "\n"
     ]
    },
    {
     "name": "stderr",
     "output_type": "stream",
     "text": [
      "100%|████████████████████████████████████████████████████████████████████████████████| 390/390 [01:41<00:00,  3.85it/s]\n",
      "  0%|                                                                                          | 0/390 [00:00<?, ?it/s]"
     ]
    },
    {
     "name": "stdout",
     "output_type": "stream",
     "text": [
      "After the accuracy after 19 epochs is 0.6738\n",
      "\n"
     ]
    },
    {
     "name": "stderr",
     "output_type": "stream",
     "text": [
      "100%|████████████████████████████████████████████████████████████████████████████████| 390/390 [01:41<00:00,  3.83it/s]\n",
      "  0%|                                                                                          | 0/390 [00:00<?, ?it/s]"
     ]
    },
    {
     "name": "stdout",
     "output_type": "stream",
     "text": [
      "After the accuracy after 20 epochs is 0.6217\n",
      "\n"
     ]
    },
    {
     "name": "stderr",
     "output_type": "stream",
     "text": [
      "100%|████████████████████████████████████████████████████████████████████████████████| 390/390 [01:42<00:00,  3.79it/s]\n",
      "  0%|                                                                                          | 0/390 [00:00<?, ?it/s]"
     ]
    },
    {
     "name": "stdout",
     "output_type": "stream",
     "text": [
      "After the accuracy after 21 epochs is 0.7066\n",
      "\n"
     ]
    },
    {
     "name": "stderr",
     "output_type": "stream",
     "text": [
      "100%|████████████████████████████████████████████████████████████████████████████████| 390/390 [01:42<00:00,  3.79it/s]\n",
      "  0%|                                                                                          | 0/390 [00:00<?, ?it/s]"
     ]
    },
    {
     "name": "stdout",
     "output_type": "stream",
     "text": [
      "After the accuracy after 22 epochs is 0.6773\n",
      "\n"
     ]
    },
    {
     "name": "stderr",
     "output_type": "stream",
     "text": [
      "100%|████████████████████████████████████████████████████████████████████████████████| 390/390 [01:44<00:00,  3.73it/s]\n",
      "  0%|                                                                                          | 0/390 [00:00<?, ?it/s]"
     ]
    },
    {
     "name": "stdout",
     "output_type": "stream",
     "text": [
      "After the accuracy after 23 epochs is 0.6395\n",
      "\n"
     ]
    },
    {
     "name": "stderr",
     "output_type": "stream",
     "text": [
      "100%|████████████████████████████████████████████████████████████████████████████████| 390/390 [01:43<00:00,  3.78it/s]\n",
      "  0%|                                                                                          | 0/390 [00:00<?, ?it/s]"
     ]
    },
    {
     "name": "stdout",
     "output_type": "stream",
     "text": [
      "After the accuracy after 24 epochs is 0.6919\n",
      "\n"
     ]
    },
    {
     "name": "stderr",
     "output_type": "stream",
     "text": [
      "100%|████████████████████████████████████████████████████████████████████████████████| 390/390 [01:41<00:00,  3.84it/s]\n",
      "  0%|                                                                                          | 0/390 [00:00<?, ?it/s]"
     ]
    },
    {
     "name": "stdout",
     "output_type": "stream",
     "text": [
      "After the accuracy after 25 epochs is 0.6896\n",
      "\n"
     ]
    },
    {
     "name": "stderr",
     "output_type": "stream",
     "text": [
      "100%|████████████████████████████████████████████████████████████████████████████████| 390/390 [01:46<00:00,  3.67it/s]\n",
      "  0%|                                                                                          | 0/390 [00:00<?, ?it/s]"
     ]
    },
    {
     "name": "stdout",
     "output_type": "stream",
     "text": [
      "After the accuracy after 26 epochs is 0.7284\n",
      "\n"
     ]
    },
    {
     "name": "stderr",
     "output_type": "stream",
     "text": [
      "100%|████████████████████████████████████████████████████████████████████████████████| 390/390 [01:43<00:00,  3.76it/s]\n",
      "  0%|                                                                                          | 0/390 [00:00<?, ?it/s]"
     ]
    },
    {
     "name": "stdout",
     "output_type": "stream",
     "text": [
      "After the accuracy after 27 epochs is 0.6737\n",
      "\n"
     ]
    },
    {
     "name": "stderr",
     "output_type": "stream",
     "text": [
      "100%|████████████████████████████████████████████████████████████████████████████████| 390/390 [01:41<00:00,  3.85it/s]\n",
      "  0%|                                                                                          | 0/390 [00:00<?, ?it/s]"
     ]
    },
    {
     "name": "stdout",
     "output_type": "stream",
     "text": [
      "After the accuracy after 28 epochs is 0.73\n",
      "\n"
     ]
    },
    {
     "name": "stderr",
     "output_type": "stream",
     "text": [
      "100%|████████████████████████████████████████████████████████████████████████████████| 390/390 [01:45<00:00,  3.69it/s]\n",
      "  0%|                                                                                          | 0/390 [00:00<?, ?it/s]"
     ]
    },
    {
     "name": "stdout",
     "output_type": "stream",
     "text": [
      "After the accuracy after 29 epochs is 0.6972\n",
      "\n"
     ]
    },
    {
     "name": "stderr",
     "output_type": "stream",
     "text": [
      "100%|████████████████████████████████████████████████████████████████████████████████| 390/390 [01:41<00:00,  3.85it/s]\n",
      "  0%|                                                                                          | 0/390 [00:00<?, ?it/s]"
     ]
    },
    {
     "name": "stdout",
     "output_type": "stream",
     "text": [
      "After the accuracy after 30 epochs is 0.6859\n",
      "\n"
     ]
    },
    {
     "name": "stderr",
     "output_type": "stream",
     "text": [
      "100%|████████████████████████████████████████████████████████████████████████████████| 390/390 [01:43<00:00,  3.79it/s]\n",
      "  0%|                                                                                          | 0/390 [00:00<?, ?it/s]"
     ]
    },
    {
     "name": "stdout",
     "output_type": "stream",
     "text": [
      "After the accuracy after 31 epochs is 0.6966\n",
      "\n"
     ]
    },
    {
     "name": "stderr",
     "output_type": "stream",
     "text": [
      "100%|████████████████████████████████████████████████████████████████████████████████| 390/390 [01:42<00:00,  3.80it/s]\n",
      "  0%|                                                                                          | 0/390 [00:00<?, ?it/s]"
     ]
    },
    {
     "name": "stdout",
     "output_type": "stream",
     "text": [
      "After the accuracy after 32 epochs is 0.7462\n",
      "\n"
     ]
    },
    {
     "name": "stderr",
     "output_type": "stream",
     "text": [
      "100%|████████████████████████████████████████████████████████████████████████████████| 390/390 [01:37<00:00,  3.99it/s]\n",
      "  0%|                                                                                          | 0/390 [00:00<?, ?it/s]"
     ]
    },
    {
     "name": "stdout",
     "output_type": "stream",
     "text": [
      "After the accuracy after 33 epochs is 0.5582\n",
      "\n"
     ]
    },
    {
     "name": "stderr",
     "output_type": "stream",
     "text": [
      "100%|████████████████████████████████████████████████████████████████████████████████| 390/390 [01:44<00:00,  3.74it/s]\n",
      "  0%|                                                                                          | 0/390 [00:00<?, ?it/s]"
     ]
    },
    {
     "name": "stdout",
     "output_type": "stream",
     "text": [
      "After the accuracy after 34 epochs is 0.6914\n",
      "\n"
     ]
    },
    {
     "name": "stderr",
     "output_type": "stream",
     "text": [
      "100%|████████████████████████████████████████████████████████████████████████████████| 390/390 [01:40<00:00,  3.88it/s]\n",
      "  0%|                                                                                          | 0/390 [00:00<?, ?it/s]"
     ]
    },
    {
     "name": "stdout",
     "output_type": "stream",
     "text": [
      "After the accuracy after 35 epochs is 0.7133\n",
      "\n"
     ]
    },
    {
     "name": "stderr",
     "output_type": "stream",
     "text": [
      "100%|████████████████████████████████████████████████████████████████████████████████| 390/390 [01:43<00:00,  3.76it/s]\n",
      "  0%|                                                                                          | 0/390 [00:00<?, ?it/s]"
     ]
    },
    {
     "name": "stdout",
     "output_type": "stream",
     "text": [
      "After the accuracy after 36 epochs is 0.7253\n",
      "\n"
     ]
    },
    {
     "name": "stderr",
     "output_type": "stream",
     "text": [
      "100%|████████████████████████████████████████████████████████████████████████████████| 390/390 [01:35<00:00,  4.09it/s]\n",
      "  0%|                                                                                          | 0/390 [00:00<?, ?it/s]"
     ]
    },
    {
     "name": "stdout",
     "output_type": "stream",
     "text": [
      "After the accuracy after 37 epochs is 0.6977\n",
      "\n"
     ]
    },
    {
     "name": "stderr",
     "output_type": "stream",
     "text": [
      "100%|████████████████████████████████████████████████████████████████████████████████| 390/390 [01:35<00:00,  4.08it/s]\n",
      "  0%|                                                                                          | 0/390 [00:00<?, ?it/s]"
     ]
    },
    {
     "name": "stdout",
     "output_type": "stream",
     "text": [
      "After the accuracy after 38 epochs is 0.7565\n",
      "\n"
     ]
    },
    {
     "name": "stderr",
     "output_type": "stream",
     "text": [
      "100%|████████████████████████████████████████████████████████████████████████████████| 390/390 [01:35<00:00,  4.08it/s]\n",
      "  0%|                                                                                          | 0/390 [00:00<?, ?it/s]"
     ]
    },
    {
     "name": "stdout",
     "output_type": "stream",
     "text": [
      "After the accuracy after 39 epochs is 0.6915\n",
      "\n"
     ]
    },
    {
     "name": "stderr",
     "output_type": "stream",
     "text": [
      "100%|████████████████████████████████████████████████████████████████████████████████| 390/390 [01:38<00:00,  3.97it/s]\n",
      "  0%|                                                                                          | 0/390 [00:00<?, ?it/s]"
     ]
    },
    {
     "name": "stdout",
     "output_type": "stream",
     "text": [
      "After the accuracy after 40 epochs is 0.7317\n",
      "\n"
     ]
    },
    {
     "name": "stderr",
     "output_type": "stream",
     "text": [
      "100%|████████████████████████████████████████████████████████████████████████████████| 390/390 [01:35<00:00,  4.07it/s]\n",
      "  0%|                                                                                          | 0/390 [00:00<?, ?it/s]"
     ]
    },
    {
     "name": "stdout",
     "output_type": "stream",
     "text": [
      "After the accuracy after 41 epochs is 0.676\n",
      "\n"
     ]
    },
    {
     "name": "stderr",
     "output_type": "stream",
     "text": [
      "100%|████████████████████████████████████████████████████████████████████████████████| 390/390 [01:35<00:00,  4.08it/s]\n",
      "  0%|                                                                                          | 0/390 [00:00<?, ?it/s]"
     ]
    },
    {
     "name": "stdout",
     "output_type": "stream",
     "text": [
      "After the accuracy after 42 epochs is 0.7142\n",
      "\n"
     ]
    },
    {
     "name": "stderr",
     "output_type": "stream",
     "text": [
      "100%|████████████████████████████████████████████████████████████████████████████████| 390/390 [01:35<00:00,  4.07it/s]\n",
      "  0%|                                                                                          | 0/390 [00:00<?, ?it/s]"
     ]
    },
    {
     "name": "stdout",
     "output_type": "stream",
     "text": [
      "After the accuracy after 43 epochs is 0.6481\n",
      "\n"
     ]
    },
    {
     "name": "stderr",
     "output_type": "stream",
     "text": [
      "100%|████████████████████████████████████████████████████████████████████████████████| 390/390 [01:35<00:00,  4.07it/s]\n",
      "  0%|                                                                                          | 0/390 [00:00<?, ?it/s]"
     ]
    },
    {
     "name": "stdout",
     "output_type": "stream",
     "text": [
      "After the accuracy after 44 epochs is 0.6953\n",
      "\n"
     ]
    },
    {
     "name": "stderr",
     "output_type": "stream",
     "text": [
      "100%|████████████████████████████████████████████████████████████████████████████████| 390/390 [01:35<00:00,  4.07it/s]\n",
      "  0%|                                                                                          | 0/390 [00:00<?, ?it/s]"
     ]
    },
    {
     "name": "stdout",
     "output_type": "stream",
     "text": [
      "After the accuracy after 45 epochs is 0.6938\n",
      "\n"
     ]
    },
    {
     "name": "stderr",
     "output_type": "stream",
     "text": [
      "100%|████████████████████████████████████████████████████████████████████████████████| 390/390 [01:35<00:00,  4.07it/s]\n",
      "  0%|                                                                                          | 0/390 [00:00<?, ?it/s]"
     ]
    },
    {
     "name": "stdout",
     "output_type": "stream",
     "text": [
      "After the accuracy after 46 epochs is 0.7473\n",
      "\n"
     ]
    },
    {
     "name": "stderr",
     "output_type": "stream",
     "text": [
      "100%|████████████████████████████████████████████████████████████████████████████████| 390/390 [01:35<00:00,  4.07it/s]\n",
      "  0%|                                                                                          | 0/390 [00:00<?, ?it/s]"
     ]
    },
    {
     "name": "stdout",
     "output_type": "stream",
     "text": [
      "After the accuracy after 47 epochs is 0.7148\n",
      "\n"
     ]
    },
    {
     "name": "stderr",
     "output_type": "stream",
     "text": [
      "100%|████████████████████████████████████████████████████████████████████████████████| 390/390 [01:34<00:00,  4.12it/s]\n",
      "  0%|                                                                                          | 0/390 [00:00<?, ?it/s]"
     ]
    },
    {
     "name": "stdout",
     "output_type": "stream",
     "text": [
      "After the accuracy after 48 epochs is 0.7016\n",
      "\n"
     ]
    },
    {
     "name": "stderr",
     "output_type": "stream",
     "text": [
      "100%|████████████████████████████████████████████████████████████████████████████████| 390/390 [01:33<00:00,  4.17it/s]\n",
      "  0%|                                                                                          | 0/390 [00:00<?, ?it/s]"
     ]
    },
    {
     "name": "stdout",
     "output_type": "stream",
     "text": [
      "After the accuracy after 49 epochs is 0.6911\n",
      "\n"
     ]
    },
    {
     "name": "stderr",
     "output_type": "stream",
     "text": [
      "100%|████████████████████████████████████████████████████████████████████████████████| 390/390 [01:33<00:00,  4.17it/s]\n",
      "  0%|                                                                                          | 0/390 [00:00<?, ?it/s]"
     ]
    },
    {
     "name": "stdout",
     "output_type": "stream",
     "text": [
      "After the accuracy after 50 epochs is 0.6227\n",
      "\n"
     ]
    },
    {
     "name": "stderr",
     "output_type": "stream",
     "text": [
      "100%|████████████████████████████████████████████████████████████████████████████████| 390/390 [01:33<00:00,  4.18it/s]\n",
      "  0%|                                                                                          | 0/390 [00:00<?, ?it/s]"
     ]
    },
    {
     "name": "stdout",
     "output_type": "stream",
     "text": [
      "After the accuracy after 51 epochs is 0.7452\n",
      "\n"
     ]
    },
    {
     "name": "stderr",
     "output_type": "stream",
     "text": [
      "100%|████████████████████████████████████████████████████████████████████████████████| 390/390 [01:40<00:00,  3.87it/s]\n",
      "  0%|                                                                                          | 0/390 [00:00<?, ?it/s]"
     ]
    },
    {
     "name": "stdout",
     "output_type": "stream",
     "text": [
      "After the accuracy after 52 epochs is 0.7137\n",
      "\n"
     ]
    },
    {
     "name": "stderr",
     "output_type": "stream",
     "text": [
      "100%|████████████████████████████████████████████████████████████████████████████████| 390/390 [01:35<00:00,  4.08it/s]\n",
      "  0%|                                                                                          | 0/390 [00:00<?, ?it/s]"
     ]
    },
    {
     "name": "stdout",
     "output_type": "stream",
     "text": [
      "After the accuracy after 53 epochs is 0.6259\n",
      "\n"
     ]
    },
    {
     "name": "stderr",
     "output_type": "stream",
     "text": [
      "100%|████████████████████████████████████████████████████████████████████████████████| 390/390 [01:38<00:00,  3.97it/s]\n",
      "  0%|                                                                                          | 0/390 [00:00<?, ?it/s]"
     ]
    },
    {
     "name": "stdout",
     "output_type": "stream",
     "text": [
      "After the accuracy after 54 epochs is 0.7108\n",
      "\n"
     ]
    },
    {
     "name": "stderr",
     "output_type": "stream",
     "text": [
      "100%|████████████████████████████████████████████████████████████████████████████████| 390/390 [01:37<00:00,  4.00it/s]\n",
      "  0%|                                                                                          | 0/390 [00:00<?, ?it/s]"
     ]
    },
    {
     "name": "stdout",
     "output_type": "stream",
     "text": [
      "After the accuracy after 55 epochs is 0.6649\n",
      "\n"
     ]
    },
    {
     "name": "stderr",
     "output_type": "stream",
     "text": [
      "100%|████████████████████████████████████████████████████████████████████████████████| 390/390 [01:36<00:00,  4.02it/s]\n",
      "  0%|                                                                                          | 0/390 [00:00<?, ?it/s]"
     ]
    },
    {
     "name": "stdout",
     "output_type": "stream",
     "text": [
      "After the accuracy after 56 epochs is 0.6724\n",
      "\n"
     ]
    },
    {
     "name": "stderr",
     "output_type": "stream",
     "text": [
      "100%|████████████████████████████████████████████████████████████████████████████████| 390/390 [01:36<00:00,  4.02it/s]\n",
      "  0%|                                                                                          | 0/390 [00:00<?, ?it/s]"
     ]
    },
    {
     "name": "stdout",
     "output_type": "stream",
     "text": [
      "After the accuracy after 57 epochs is 0.6527\n",
      "\n"
     ]
    },
    {
     "name": "stderr",
     "output_type": "stream",
     "text": [
      "100%|████████████████████████████████████████████████████████████████████████████████| 390/390 [01:36<00:00,  4.03it/s]\n",
      "  0%|                                                                                          | 0/390 [00:00<?, ?it/s]"
     ]
    },
    {
     "name": "stdout",
     "output_type": "stream",
     "text": [
      "After the accuracy after 58 epochs is 0.7462\n",
      "\n"
     ]
    },
    {
     "name": "stderr",
     "output_type": "stream",
     "text": [
      "100%|████████████████████████████████████████████████████████████████████████████████| 390/390 [01:37<00:00,  3.99it/s]\n",
      "  0%|                                                                                          | 0/390 [00:00<?, ?it/s]"
     ]
    },
    {
     "name": "stdout",
     "output_type": "stream",
     "text": [
      "After the accuracy after 59 epochs is 0.7053\n",
      "\n"
     ]
    },
    {
     "name": "stderr",
     "output_type": "stream",
     "text": [
      " 45%|████████████████████████████████████                                            | 176/390 [00:45<00:54,  3.93it/s]"
     ]
    }
   ],
   "source": [
    "for epoch in range(train_epochs+1):\n",
    "    model.train()\n",
    "    for i, d in enumerate(tqdm.tqdm(train_dataloaders)):\n",
    "        try:\n",
    "            d1 = next(train_iterator)\n",
    "        except StopIteration:\n",
    "            train_iterator = iter(train_dataloaders)\n",
    "            d1 = next(train_iterator)\n",
    "        \n",
    "        try:\n",
    "            d2 = next(train_iterator)\n",
    "        except StopIteration:\n",
    "            train_iterator = iter(train_dataloaders)\n",
    "            d2 = next(train_iterator)\n",
    "            \n",
    "        x1, y1 = d1[0], d1[1]\n",
    "        x2, y2 = d2[0], d2[1]\n",
    "        \n",
    "        x, y = augmentBatch((x1,y1), (x2,y2), augmentor)\n",
    "        x = x.float().to(device)\n",
    "        y = y.float().to(device)\n",
    "        \n",
    "        opt.zero_grad()\n",
    "        \n",
    "        out = model(x)\n",
    "        \n",
    "        loss = softXEnt(out, y)\n",
    "        loss.backward()\n",
    "        \n",
    "        opt.step()\n",
    "        \n",
    "        summary_writer.add_scalar('Loss', loss.item())\n",
    "        \n",
    "        # Scheduler is defined based on total number of iterations\n",
    "        scheduler_1.step()\n",
    "        scheduler_2.step()\n",
    "        \n",
    "    model.eval()\n",
    "    total_acc = 0\n",
    "    for i, d in enumerate(test_dataloaders):\n",
    "        x, y = d[0], d[1]\n",
    "        x = x.float().to(device)\n",
    "        y = y.long().to(device)\n",
    "        \n",
    "        with torch.no_grad():\n",
    "            out_prob = model(x)\n",
    "        \n",
    "        pred = torch.argmax(out_prob, dim=1)\n",
    "        prediction = pred.cpu().numpy()\n",
    "        truth = y.cpu().numpy()\n",
    "        acc = np.count_nonzero(prediction == truth)\n",
    "\n",
    "        total_acc += acc\n",
    "        \n",
    "    print('After the accuracy after {} epochs is {}'.format(epoch, total_acc / len(test_datasets)))\n",
    "    print()\n",
    "\n",
    "    summary_writer.add_scalar('Eval ACC', total_acc / len(test_datasets))\n",
    "    \n",
    "    torch.save(model.state_dict(), MODEL_DIR+'epoch_{}.pth'.format(epoch))"
   ]
  },
  {
   "cell_type": "code",
   "execution_count": null,
   "metadata": {},
   "outputs": [],
   "source": [
    "total_acc / len(test_datasets)"
   ]
  },
  {
   "cell_type": "code",
   "execution_count": null,
   "metadata": {},
   "outputs": [],
   "source": [
    "torch.save(model.state_dict(), MODEL_DIR+'final.pth')"
   ]
  },
  {
   "cell_type": "markdown",
   "metadata": {},
   "source": [
    "# Evaluate"
   ]
  },
  {
   "cell_type": "code",
   "execution_count": null,
   "metadata": {},
   "outputs": [],
   "source": [
    "model.eval()\n",
    "total_acc = 0\n",
    "for i, d in enumerate(test_dataloaders):\n",
    "    x, y = d[0], d[1]\n",
    "    x = x.float().to(device)\n",
    "    y = y.long().to(device)\n",
    "\n",
    "    with torch.no_grad():\n",
    "        out_prob = model(x)\n",
    "\n",
    "    pred = torch.argmax(out_prob, dim=1)\n",
    "    prediction = pred.cpu().numpy()\n",
    "    truth = y.cpu().numpy()\n",
    "    acc = np.count_nonzero(prediction == truth)\n",
    "\n",
    "    total_acc += acc\n",
    "\n",
    "print('After the accuracy after {} epochs is {}'.format(epoch, total_acc / len(test_datasets)))"
   ]
  }
 ],
 "metadata": {
  "kernelspec": {
   "display_name": "Python 3",
   "language": "python",
   "name": "python3"
  },
  "language_info": {
   "codemirror_mode": {
    "name": "ipython",
    "version": 3
   },
   "file_extension": ".py",
   "mimetype": "text/x-python",
   "name": "python",
   "nbconvert_exporter": "python",
   "pygments_lexer": "ipython3",
   "version": "3.8.5"
  }
 },
 "nbformat": 4,
 "nbformat_minor": 4
}
